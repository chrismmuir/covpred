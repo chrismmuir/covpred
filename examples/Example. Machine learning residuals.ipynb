{
 "cells": [
  {
   "cell_type": "code",
   "execution_count": 27,
   "metadata": {},
   "outputs": [
    {
     "name": "stdout",
     "output_type": "stream",
     "text": [
      "The autoreload extension is already loaded. To reload it, use:\n",
      "  %reload_ext autoreload\n"
     ]
    }
   ],
   "source": [
    "%load_ext autoreload\n",
    "%autoreload 2"
   ]
  },
  {
   "cell_type": "code",
   "execution_count": 28,
   "metadata": {},
   "outputs": [],
   "source": [
    "from covpred import *\n",
    "import pandas as pd\n",
    "import numpy as np\n",
    "from sklearn.linear_model import RidgeCV\n",
    "from sklearn.model_selection import train_test_split\n",
    "import matplotlib.pyplot as plt\n",
    "from sklearn.preprocessing import QuantileTransformer\n",
    "%matplotlib inline"
   ]
  },
  {
   "cell_type": "code",
   "execution_count": 29,
   "metadata": {},
   "outputs": [],
   "source": [
    "def bmatrix(a):\n",
    "    \"\"\"Returns a LaTeX bmatrix\n",
    "\n",
    "    :a: numpy array\n",
    "    :returns: LaTeX bmatrix as a string\n",
    "    \"\"\"\n",
    "    if len(a.shape) > 2:\n",
    "        raise ValueError('bmatrix can at most display two dimensions')\n",
    "    lines = str(a).replace('[', '').replace(']', '').replace('0. ', '0 ').replace('1. ', '1 ').splitlines()\n",
    "    rv = [r'\\begin{bmatrix}']\n",
    "    rv += ['  ' + ' & '.join(l.split()) + r'\\\\' for l in lines]\n",
    "    rv +=  [r'\\end{bmatrix}']\n",
    "    return '\\n'.join(rv)\n",
    "\n",
    "def get_idx(column):\n",
    "    return np.where(df.columns == column)[0][0]"
   ]
  },
  {
   "cell_type": "code",
   "execution_count": 30,
   "metadata": {},
   "outputs": [
    {
     "name": "stderr",
     "output_type": "stream",
     "text": [
      "/home/shane/miniconda3/lib/python3.7/site-packages/pandas/core/ops/array_ops.py:253: FutureWarning: elementwise comparison failed; returning scalar instead, but in the future will perform elementwise comparison\n",
      "  res_values = method(rvalues)\n"
     ]
    },
    {
     "data": {
      "text/plain": [
       "((1495, 98), (499, 98))"
      ]
     },
     "execution_count": 30,
     "metadata": {},
     "output_type": "execute_result"
    }
   ],
   "source": [
    "np.random.seed(5)\n",
    "names = [\"state\", \"county\", \"community\", \"communityname\", \"fold\", \"population\", \"householdsize\", \"racepctblack\", \"racePctWhite\", \"racePctAsian\", \"racePctHisp\", \"agePct12t21\", \"agePct12t29\", \"agePct16t24\", \"agePct65up\", \"numbUrban\", \"pctUrban\", \"medIncome\", \"pctWWage\", \"pctWFarmSelf\", \"pctWInvInc\", \"pctWSocSec\", \"pctWPubAsst\", \"pctWRetire\", \"medFamInc\", \"perCapInc\", \"whitePerCap\", \"blackPerCap\", \"indianPerCap\", \"AsianPerCap\", \"OtherPerCap\", \"HispPerCap\", \"NumUnderPov\", \"PctPopUnderPov\", \"PctLess9thGrade\", \"PctNotHSGrad\", \"PctBSorMore\", \"PctUnemployed\", \"PctEmploy\", \"PctEmplManu\", \"PctEmplProfServ\", \"PctOccupManu\", \"PctOccupMgmtProf\", \"MalePctDivorce\", \"MalePctNevMarr\", \"FemalePctDiv\", \"TotalPctDiv\", \"PersPerFam\", \"PctFam2Par\", \"PctKids2Par\", \"PctYoungKids2Par\", \"PctTeen2Par\", \"PctWorkMomYoungKids\", \"PctWorkMom\", \"NumIlleg\", \"PctIlleg\", \"NumImmig\", \"PctImmigRecent\", \"PctImmigRec5\", \"PctImmigRec8\", \"PctImmigRec10\", \"PctRecentImmig\", \"PctRecImmig5\", \"PctRecImmig8\", \"PctRecImmig10\", \"PctSpeakEnglOnly\", \"PctNotSpeakEnglWell\", \"PctLargHouseFam\", \"PctLargHouseOccup\", \"PersPerOccupHous\", \"PersPerOwnOccHous\", \"PersPerRentOccHous\", \"PctPersOwnOccup\", \"PctPersDenseHous\", \"PctHousLess3BR\", \"MedNumBR\", \"HousVacant\", \"PctHousOccup\", \"PctHousOwnOcc\", \"PctVacantBoarded\", \"PctVacMore6Mos\", \"MedYrHousBuilt\", \"PctHousNoPhone\", \"PctWOFullPlumb\", \"OwnOccLowQuart\", \"OwnOccMedVal\", \"OwnOccHiQuart\", \"RentLowQ\", \"RentMedian\", \"RentHighQ\", \"MedRent\", \"MedRentPctHousInc\", \"MedOwnCostPctInc\", \"MedOwnCostPctIncNoMtg\", \"NumInShelters\", \"NumStreet\", \"PctForeignBorn\", \"PctBornSameState\", \"PctSameHouse85\", \"PctSameCity85\", \"PctSameState85\", \"LemasSwornFT\", \"LemasSwFTPerPop\", \"LemasSwFTFieldOps\", \"LemasSwFTFieldPerPop\", \"LemasTotalReq\", \"LemasTotReqPerPop\", \"PolicReqPerOffic\", \"PolicPerPop\", \"RacialMatchCommPol\", \"PctPolicWhite\", \"PctPolicBlack\", \"PctPolicHisp\", \"PctPolicAsian\", \"PctPolicMinor\", \"OfficAssgnDrugUnits\", \"NumKindsDrugsSeiz\", \"PolicAveOTWorked\", \"LandArea\", \"PopDens\", \"PctUsePubTrans\", \"PolicCars\", \"PolicOperBudg\", \"LemasPctPolicOnPatr\", \"LemasGangUnitDeploy\", \"LemasPctOfficDrugUn\", \"PolicBudgPerPop\", \"ViolentCrimesPerPop\"]\n",
    "df = pd.read_csv(\"data/crime_data.csv\", names=names)\n",
    "df[df == \"?\"] = np.nan\n",
    "df.drop([\"communityname\", \"state\", \"fold\"], axis=1, inplace=True)\n",
    "df = df.loc[:,~df.isna().any(axis=0)]\n",
    "df.head().T\n",
    "\n",
    "idx_predict = [get_idx(c) for c in [\"agePct65up\", \"pctWSocSec\"]]\n",
    "idx_use = np.setdiff1d(np.arange(df.shape[1]), idx_predict)\n",
    "\n",
    "X = df.iloc[:,idx_use]\n",
    "Y = df.iloc[:,idx_predict]\n",
    "\n",
    "Xtrain, Xtest, Ytrain, Ytest = train_test_split(X, Y)\n",
    "Xtrain.shape, Xtest.shape"
   ]
  },
  {
   "cell_type": "code",
   "execution_count": 31,
   "metadata": {},
   "outputs": [],
   "source": [
    "qt = QuantileTransformer(n_quantiles=100, output_distribution='normal')\n",
    "Ytrain = qt.fit_transform(Ytrain)\n",
    "Ytest = qt.transform(Ytest)\n",
    "qt = QuantileTransformer(n_quantiles=100)\n",
    "Xtrain = qt.fit_transform(Xtrain)\n",
    "Xtest = qt.fit_transform(Xtest)\n",
    "Xtrain = (Xtrain - .5) * 2\n",
    "Xtest = (Xtest - .5) * 2"
   ]
  },
  {
   "cell_type": "code",
   "execution_count": 32,
   "metadata": {},
   "outputs": [
    {
     "data": {
      "text/plain": [
       "(0.1239501458548298, 0.12886895276118335)"
      ]
     },
     "execution_count": 32,
     "metadata": {},
     "output_type": "execute_result"
    }
   ],
   "source": [
    "lr = RidgeCV(alphas=np.logspace(-3,3,100))\n",
    "lr.fit(Xtrain, Ytrain)\n",
    "np.mean(np.square(lr.predict(Xtrain) - Ytrain)), np.mean(np.square(lr.predict(Xtest) - Ytest))"
   ]
  },
  {
   "cell_type": "code",
   "execution_count": 33,
   "metadata": {},
   "outputs": [],
   "source": [
    "X_cov_train = Xtrain\n",
    "X_cov_test = Xtest\n",
    "Y_cov_train = lr.predict(Xtrain) - Ytrain\n",
    "Y_cov_test = lr.predict(Xtest) - Ytest"
   ]
  },
  {
   "cell_type": "code",
   "execution_count": 34,
   "metadata": {},
   "outputs": [
    {
     "name": "stdout",
     "output_type": "stream",
     "text": [
      "\\begin{bmatrix}\n",
      "  0.14 & 0.08\\\\\n",
      "  0.08 & 0.11\\\\\n",
      "\\end{bmatrix}\n"
     ]
    }
   ],
   "source": [
    "print(bmatrix(np.round(np.cov(Y_cov_train.T), 2)))"
   ]
  },
  {
   "cell_type": "code",
   "execution_count": 35,
   "metadata": {},
   "outputs": [
    {
     "name": "stdout",
     "output_type": "stream",
     "text": [
      "Constant & -0.47 & -0.44 \\\\\n",
      "Diagonal & -0.37 & -0.55 \\\\\n",
      "Regression & -0.05 & -0.14 \\\\\n",
      "Constant, then diagonal & -0.45 & -0.69 \\\\\n",
      "Diagonal, then constant & 0.00 & -0.18 \\\\\n",
      "Constant, then regression & -0.26 & -0.33 \\\\\n",
      "Regression, then constant & 0.01 & -0.11 \\\\\n"
     ]
    }
   ],
   "source": [
    "whitener0 = ConstantWhitener()\n",
    "whitener0.fit(Y_cov_train)\n",
    "Sigma0, _, _, _ = whitener0.whiten(Y_cov_test)\n",
    "print(\"Constant & %.2f & %.2f \\\\\\\\\" % (whitener0.score(Y_cov_train), whitener0.score(Y_cov_test)))\n",
    "\n",
    "whitener1 = DiagonalWhitener(lam=.1)\n",
    "whitener1.fit(Y_cov_train, X_cov_train)\n",
    "Sigma1, _, _, _ = whitener1.whiten(Y_cov_test, X_cov_test)\n",
    "print(\"Diagonal & %.2f & %.2f \\\\\\\\\" % (whitener1.score(Y_cov_train, X_cov_train), whitener1.score(Y_cov_test, X_cov_test)))\n",
    "\n",
    "whitener2 = RegressionWhitener(epsilon=1e-2, lam_1=0.1, lam_2=0)\n",
    "whitener2.fit(Y_cov_train, X_cov_train)\n",
    "Sigma2, _, _, _ = whitener2.whiten(Y_cov_test, X_cov_test)\n",
    "print(\"Regression & %.2f & %.2f \\\\\\\\\" % (whitener2.score(Y_cov_train, X_cov_train), whitener2.score(Y_cov_test, X_cov_test)))\n",
    "\n",
    "whitener3 = IteratedWhitener([\n",
    "    ConstantWhitener(),\n",
    "    DiagonalWhitener(lam=.1)\n",
    "])\n",
    "whitener3.fit(Y_cov_train, X_cov_train)\n",
    "Sigma3, _, _, _ = whitener3.whiten(Y_cov_test, X_cov_test)\n",
    "print(\"Constant, then diagonal & %.2f & %.2f \\\\\\\\\" % (whitener3.score(Y_cov_train, X_cov_train), whitener3.score(Y_cov_test, X_cov_test)))\n",
    "\n",
    "whitener4 = IteratedWhitener([\n",
    "    DiagonalWhitener(lam=.1),\n",
    "    ConstantWhitener()\n",
    "])\n",
    "whitener4.fit(Y_cov_train, X_cov_train)\n",
    "Sigma4, _, _, _ = whitener4.whiten(Y_cov_test, X_cov_test)\n",
    "print(\"Diagonal, then constant & %.2f & %.2f \\\\\\\\\" % (whitener4.score(Y_cov_train, X_cov_train), whitener4.score(Y_cov_test, X_cov_test)))\n",
    "\n",
    "whitener5 = IteratedWhitener([\n",
    "    ConstantWhitener(),\n",
    "    RegressionWhitener(epsilon=1e-2, lam_1=1, lam_2=1)\n",
    "])\n",
    "whitener5.fit(Y_cov_train, X_cov_train)\n",
    "Sigma5, _, _, _ = whitener5.whiten(Y_cov_test, X_cov_test)\n",
    "print(\"Constant, then regression & %.2f & %.2f \\\\\\\\\" % (whitener5.score(Y_cov_train, X_cov_train), whitener5.score(Y_cov_test, X_cov_test)))\n",
    "\n",
    "whitener6 = IteratedWhitener([\n",
    "    RegressionWhitener(epsilon=1e-2, lam_1=.01, lam_2=0),\n",
    "    ConstantWhitener()\n",
    "])\n",
    "whitener6.fit(Y_cov_train,X_cov_train)\n",
    "Sigma6, _, _, _ = whitener6.whiten(Y_cov_test, X_cov_test)\n",
    "print(\"Regression, then constant & %.2f & %.2f \\\\\\\\\" % (whitener6.score(Y_cov_train, X_cov_train), whitener6.score(Y_cov_test, X_cov_test)))\n",
    "\n",
    "# whitener7 = IteratedWhitener([\n",
    "#     DiagonalWhitener(lam=.1),\n",
    "#     RegressionWhitener(epsilon=1e-3, lam_1=1, lam_2=0),\n",
    "#     ConstantWhitener(),\n",
    "# ])\n",
    "# whitener7.fit(Y_cov_train,X_cov_train)\n",
    "# Sigma7, _, _, _ = whitener7.whiten(Y_cov_test, X_cov_test)\n",
    "# print(\"Diagonal, then full, then constant & %.2f & %.2f \\\\\\\\\" % (whitener7.score(Y_cov_train, X_cov_train), whitener7.score(Y_cov_test, X_cov_test)))"
   ]
  },
  {
   "cell_type": "code",
   "execution_count": 36,
   "metadata": {},
   "outputs": [],
   "source": [
    "# plt.hist(np.linalg.norm(whitener0.whiten(Y_cov_test)[2], axis=1)**2, bins=50, alpha=.5);\n",
    "# plt.hist(np.linalg.norm(whitener2.whiten(Y_cov_test, X_cov_test)[2], axis=1)**2, bins=50, alpha=.5);"
   ]
  },
  {
   "cell_type": "code",
   "execution_count": 37,
   "metadata": {},
   "outputs": [
    {
     "data": {
      "image/png": "[encoded data removed]",
      "text/plain": [
       "<Figure size 432x288 with 1 Axes>"
      ]
     },
     "metadata": {
      "needs_background": "light"
     },
     "output_type": "display_data"
    }
   ],
   "source": [
    "Sigmas = whitener6.whiten(Y_cov_test, X_cov_test)[0]\n",
    "Corrs = [Sigmas[i] / np.sqrt(np.outer(np.diag(Sigmas[i]), np.diag(Sigmas[i]))) for i in range(Sigmas.shape[0])]\n",
    "log_vols = [.5 * np.linalg.slogdet(S)[1] for S in Sigmas]\n",
    "plt.hist(np.array(log_vols), bins=50, density=True, alpha=.8)\n",
    "plt.axvline(np.mean(log_vols))\n",
    "plt.axvline(.5 * np.linalg.slogdet(whitener0.Sigma)[1], c='black')\n",
    "plt.xlabel(\"log volume plus constant\")\n",
    "plt.ylabel(\"density\")\n",
    "plt.savefig(\"figs/log_volume.pdf\")"
   ]
  },
  {
   "cell_type": "code",
   "execution_count": 38,
   "metadata": {},
   "outputs": [
    {
     "data": {
      "text/plain": [
       "0.6177449834421579"
      ]
     },
     "execution_count": 38,
     "metadata": {},
     "output_type": "execute_result"
    }
   ],
   "source": [
    "np.exp(np.mean(log_vols) - .5 * np.linalg.slogdet(whitener0.Sigma)[1])"
   ]
  },
  {
   "cell_type": "code",
   "execution_count": 39,
   "metadata": {},
   "outputs": [
    {
     "name": "stdout",
     "output_type": "stream",
     "text": [
      "(0.19, 0.18)\n",
      "(1.16, 0.88)\n",
      "\\begin{bmatrix}\n",
      "  1 & -0.045\\\\\n",
      "  -0.045 & 1\\\\\n",
      "\\end{bmatrix}\n",
      "\\begin{bmatrix}\n",
      "  1 & 0.908\\\\\n",
      "  0.908 & 1\\\\\n",
      "\\end{bmatrix}\n"
     ]
    }
   ],
   "source": [
    "X = np.array(Corrs).min(axis=0)\n",
    "Y = np.array(Corrs).max(axis=0)\n",
    "print(\"(\" + \", \".join([str(s) for s in np.round(np.sqrt(np.diag(Sigmas.min(axis=0))), 2)]) + \")\")\n",
    "print(\"(\" + \", \".join([str(s) for s in np.round(np.sqrt(np.diag(Sigmas.max(axis=0))), 2)]) + \")\")\n",
    "print(bmatrix(np.round(X, 3)))\n",
    "print(bmatrix(np.round(Y, 3)))"
   ]
  },
  {
   "cell_type": "code",
   "execution_count": 40,
   "metadata": {},
   "outputs": [
    {
     "data": {
      "image/png": "[encoded data removed]",
      "text/plain": [
       "<Figure size 1440x720 with 4 Axes>"
      ]
     },
     "metadata": {
      "needs_background": "light"
     },
     "output_type": "display_data"
    }
   ],
   "source": [
    "n = len(idx_predict)\n",
    "fig, axes = plt.subplots(n, n, figsize=(20, 10))\n",
    "fig.autofmt_xdate()\n",
    "for i in range(n):\n",
    "    for j in range(n):\n",
    "        axes[i,j].hist(np.array(Corrs)[:,i,j], bins=50, cumulative=True, density=True, histtype='step')\n",
    "        axes[i,j].set_xlim(-1,1)\n",
    "\n",
    "for i, col1 in enumerate(df.columns[idx_predict]):\n",
    "    axes[i,0].set_ylabel(col1)\n",
    "for j, col2 in enumerate(df.columns[idx_predict]):\n",
    "    axes[0,j].set_title(col2)\n",
    "\n",
    "plt.tight_layout()\n",
    "plt.show()"
   ]
  },
  {
   "cell_type": "code",
   "execution_count": 41,
   "metadata": {},
   "outputs": [],
   "source": [
    "# for i in range(n):\n",
    "#     plt.hist(np.sqrt(np.array(Sigmas)[:,i,i]), bins=50, cumulative=True, density=True, histtype='step')\n",
    "#     plt.show()"
   ]
  },
  {
   "cell_type": "code",
   "execution_count": 42,
   "metadata": {
    "scrolled": false
   },
   "outputs": [
    {
     "name": "stdout",
     "output_type": "stream",
     "text": [
      "[-0.07625419 -0.24594584]\n"
     ]
    },
    {
     "data": {
      "image/png": "[encoded data removed]",
      "text/plain": [
       "<Figure size 432x288 with 1 Axes>"
      ]
     },
     "metadata": {
      "needs_background": "light"
     },
     "output_type": "display_data"
    }
   ],
   "source": [
    "from matplotlib.patches import Ellipse\n",
    "import matplotlib.pyplot as plt\n",
    "j = 1\n",
    "def plot_ellipse(ax, Sigma, xy, c='k'):\n",
    "    lambda_, v = np.linalg.eig(Sigma[-2:,-2:])\n",
    "    lambda_ = np.sqrt(lambda_)\n",
    "    ell = Ellipse(xy=xy,\n",
    "                  width=lambda_[0]*j*2, height=lambda_[1]*j*2,\n",
    "                  angle=np.rad2deg(np.arccos(v[0, 0])), alpha=1, ec=c, fc='none')\n",
    "    ax.add_artist(ell)\n",
    "    return ell\n",
    "i = 30\n",
    "xy = lr.predict(Xtest)[i,-2:]\n",
    "print(xy)\n",
    "fig, ax = plt.subplots()\n",
    "ell1 = plot_ellipse(ax, Sigma0[i], xy=xy, c='b')\n",
    "ell2 = plot_ellipse(ax, Sigma1[i], xy=xy, c='r')\n",
    "ell3 = plot_ellipse(ax, Sigma6[i], xy=xy, c='g')\n",
    "plt.xlim(xy[0] - 1, xy[0] + 1)\n",
    "plt.ylim(xy[1] - 1, xy[1] + 1)\n",
    "scat1 = plt.scatter([xy[0]], [xy[1]])\n",
    "scat2 = plt.scatter([Ytest[i,-2]], [Ytest[i,-1]])\n",
    "ax.legend([ell1, ell2, ell3, scat1, scat2], ['constant', 'diagonal', 'regression', 'prediction', 'actual'])\n",
    "plt.xlabel(df.columns[idx_predict][-2])\n",
    "plt.ylabel(df.columns[idx_predict][-1])\n",
    "plt.savefig(\"figs/confidence_ellipse.pdf\")\n",
    "plt.show()"
   ]
  },
  {
   "cell_type": "code",
   "execution_count": 43,
   "metadata": {},
   "outputs": [
    {
     "data": {
      "text/plain": [
       "array([-1.87370507, -1.9235837 ])"
      ]
     },
     "execution_count": 43,
     "metadata": {},
     "output_type": "execute_result"
    }
   ],
   "source": [
    "lr.predict(X_cov_test)[-1]"
   ]
  },
  {
   "cell_type": "code",
   "execution_count": 44,
   "metadata": {},
   "outputs": [
    {
     "data": {
      "text/plain": [
       "0.5105206461300669"
      ]
     },
     "execution_count": 44,
     "metadata": {},
     "output_type": "execute_result"
    }
   ],
   "source": [
    "np.exp(-.5 * np.linalg.slogdet(Sigma0[i][-2:,-2:])[1] + .5 * np.linalg.slogdet(Sigma6[i][-2:,-2:])[1])"
   ]
  },
  {
   "cell_type": "code",
   "execution_count": 45,
   "metadata": {},
   "outputs": [
    {
     "data": {
      "image/png": "[encoded data removed]",
      "text/plain": [
       "<Figure size 432x288 with 1 Axes>"
      ]
     },
     "metadata": {
      "needs_background": "light"
     },
     "output_type": "display_data"
    }
   ],
   "source": [
    "fig, ax = plt.subplots()\n",
    "for e in np.linspace(0, np.pi, 10):\n",
    "    x = np.array([np.cos(e), np.sin(e)])\n",
    "    plot_ellipse(ax, Sigma6[np.argmin([x @ np.linalg.solve(S, x) for S in Sigma6])], np.zeros(2))\n",
    "plt.xlim(-2,2)\n",
    "plt.ylim(-2,2)\n",
    "plt.xlabel(df.columns[idx_predict][-2])\n",
    "plt.ylabel(df.columns[idx_predict][-1])\n",
    "plt.savefig(\"figs/confidence_ellipse_extremes.pdf\")\n",
    "plt.show()"
   ]
  },
  {
   "cell_type": "markdown",
   "metadata": {},
   "source": [
    "## Joint mean-covariance prediction"
   ]
  },
  {
   "cell_type": "code",
   "execution_count": 46,
   "metadata": {},
   "outputs": [],
   "source": [
    "from scipy.linalg import solve_triangular\n",
    "from sklearn.linear_model import LinearRegression"
   ]
  },
  {
   "cell_type": "code",
   "execution_count": 47,
   "metadata": {},
   "outputs": [],
   "source": [
    "def fit(X, Y, epsilon=1e-3, lam_1=0, lam_2=0, lam_3=0):\n",
    "    T, p = X.shape\n",
    "    T, n = Y.shape\n",
    "    diag_rows, diag_cols = np.diag_indices(n)\n",
    "    off_diag_cols, off_diag_rows = np.triu_indices(n, k=1)\n",
    "    k = off_diag_rows.size\n",
    "    def f(x):\n",
    "        Aplus = x[:n*p].reshape(n, p)\n",
    "        Aneg = x[n*p:n*p*2].reshape(n, p)\n",
    "        bplus = x[n*p*2:n*(p*2+1)]\n",
    "        C = x[n*(p*2+1):n*(p*2+1)+k*p].reshape(k, p)\n",
    "        d = x[n*(p*2+1)+k*p:n*(p*2+1)+k*p+k]\n",
    "        A = Aplus - Aneg\n",
    "        b = (Aplus + Aneg) @ np.ones(p) + epsilon + bplus\n",
    "        Areg = x[n*(p*2+1)+k*p+k:n*(p*2+1)+k*p+k+p*n].reshape(n, p)\n",
    "        breg = x[n*(p*2+1)+k*p+k+p*n:n*(p*2+1)+k*p+k+p*n+n]\n",
    "\n",
    "        pred = X @ Areg.T + breg\n",
    "\n",
    "        L = np.zeros((T, n, n))\n",
    "\n",
    "        L[:, diag_rows, diag_cols] = X @ A.T + b\n",
    "        L[:, off_diag_rows, off_diag_cols] = X @ C.T + d\n",
    "\n",
    "        f = -np.log(L[:, diag_rows, diag_cols]).sum() / T + \\\n",
    "            .5 * np.square((Y[:,:,None] * L).sum(axis=1) - pred).sum() / T + \\\n",
    "            lam_1 / 2 * (np.sum(np.square(A)) + np.sum(np.square(C))) + \\\n",
    "            lam_2 / 2 * (np.sum(np.square(b - 1)) + np.sum(np.square(d))) + \\\n",
    "            lam_3 / 2 * np.sum(np.square(Areg))\n",
    "\n",
    "        L_grad = np.zeros((T, n, n))\n",
    "        L_grad[:, diag_rows, diag_cols] = -1.0 / L[:, diag_rows, diag_cols]\n",
    "        L_grad += Y[:,:,None] * (L.transpose(0,2,1) * Y[:,None,:]).sum(axis=2)[:,None,:]\n",
    "        L_grad -= Y[:,:,None] * pred[:,None,:]\n",
    "\n",
    "        pred_grad = -(Y[:,:,None] * L).sum(axis=1) + pred\n",
    "\n",
    "        Aplus_grad = (L_grad[:, diag_rows, diag_cols][:,:,None] * (X[:,None,:] + 1)).sum(axis=0) / T + \\\n",
    "                lam_1 * A + lam_2 * np.outer(b - 1, np.ones(p))\n",
    "        Aneg_grad = (L_grad[:, diag_rows, diag_cols][:,:,None] * (-X[:,None,:] + 1)).sum(axis=0) / T - \\\n",
    "                lam_1 * A + lam_2 * np.outer(b - 1, np.ones(p))\n",
    "        C_grad = (L_grad[:, off_diag_rows, off_diag_cols][:,:,None] * X[:,None,:]).sum(axis=0) / T + lam_1 * C\n",
    "\n",
    "        bplus_grad = L_grad[:, diag_rows, diag_cols].sum(axis=0) / T + lam_2 * (b - 1)\n",
    "        d_grad = L_grad[:, off_diag_rows, off_diag_cols].sum(axis=0) / T + lam_2 * d\n",
    "\n",
    "        Areg_grad = pred_grad.T @ X / T + lam_3 * Areg\n",
    "        breg_grad = pred_grad.sum(axis=0) / T\n",
    "\n",
    "        grad = np.concatenate([\n",
    "            Aplus_grad.flatten(),\n",
    "            Aneg_grad.flatten(),\n",
    "            bplus_grad.flatten(),\n",
    "            C_grad.flatten(),\n",
    "            d_grad.flatten(),\n",
    "            Areg_grad.flatten(),\n",
    "            breg_grad.flatten()\n",
    "        ])\n",
    "        return f, grad\n",
    "    bounds = [(0, np.inf)] * (n*p) + [(0,np.inf)] * (n*p) + \\\n",
    "            [(0, np.inf)] * n + [(-np.inf, np.inf)] * k * p + [(-np.inf, np.inf)] * k + \\\n",
    "            [(-np.inf, np.inf)] * p * n + [(-np.inf, np.inf)] * n\n",
    "    x = np.zeros(len(bounds))\n",
    "    x[2*n*p:2*n*p+n] = 1 - epsilon\n",
    "    x, fstar, info = fmin_l_bfgs_b(f, x, bounds=bounds)\n",
    "    Aplus = x[:n*p].reshape(n, p)\n",
    "    Aneg = x[n*p:n*p*2].reshape(n, p)\n",
    "    bplus = x[n*p*2:n*(p*2+1)]\n",
    "    C = x[n*(p*2+1):n*(p*2+1)+k*p].reshape(k, p)\n",
    "    d = x[n*(p*2+1)+k*p:n*(p*2+1)+k*p+k]\n",
    "    A = Aplus - Aneg\n",
    "    b = (Aplus + Aneg) @ np.ones(p) + epsilon + bplus\n",
    "    Areg = x[n*(p*2+1)+k*p+k:n*(p*2+1)+k*p+k+p*n].reshape(n, p)\n",
    "    breg = x[n*(p*2+1)+k*p+k+p*n:n*(p*2+1)+k*p+k+p*n+n]\n",
    "    \n",
    "    return A, b, C, d, Areg, breg"
   ]
  },
  {
   "cell_type": "code",
   "execution_count": 48,
   "metadata": {},
   "outputs": [],
   "source": [
    "def score(means, Sigmas, Y):\n",
    "    score = 0.\n",
    "    for i in range(means.shape[0]):\n",
    "        score += -n*np.log(2*np.pi) - np.linalg.slogdet(Sigmas[i])[1] - .5 * (Y[i] - means[i]) @ np.linalg.solve(Sigmas[i], Y[i] - means[i])\n",
    "    return score / means.shape[0]"
   ]
  },
  {
   "cell_type": "code",
   "execution_count": 49,
   "metadata": {},
   "outputs": [],
   "source": [
    "def predict(X, A, b, C, d, Areg, breg):\n",
    "    N = X.shape[0]\n",
    "    nu = X @ Areg.T + breg\n",
    "    diag_rows, diag_cols = np.diag_indices(n)\n",
    "    off_diag_cols, off_diag_rows = np.triu_indices(n, k=1)\n",
    "    k = off_diag_rows.size\n",
    "    L = np.zeros((N, n, n))\n",
    "    L[:, diag_rows, diag_cols] = X @ A.T + b\n",
    "    L[:, off_diag_rows, off_diag_cols] = X @ C.T + d\n",
    "    \n",
    "    yhat = np.array([solve_triangular(L[i].T, nu[i]) for i in range(N)])\n",
    "    return yhat, [np.linalg.inv(L[i] @ L[i].T) for i in range(N)]"
   ]
  },
  {
   "cell_type": "code",
   "execution_count": 50,
   "metadata": {},
   "outputs": [],
   "source": [
    "A, b, C, d, Areg, breg = fit(Xtrain, Ytrain, epsilon=1e-8, lam_1=.01, lam_2=0, lam_3=0)"
   ]
  },
  {
   "cell_type": "code",
   "execution_count": 51,
   "metadata": {},
   "outputs": [],
   "source": [
    "np.random.seed(0)\n",
    "lr = RidgeCV(alphas=np.logspace(-3,3,100))\n",
    "lr.fit(Xtrain, Ytrain);"
   ]
  },
  {
   "cell_type": "code",
   "execution_count": 52,
   "metadata": {},
   "outputs": [],
   "source": [
    "def rmse(x):\n",
    "    return np.sqrt(np.mean(np.square(x)))"
   ]
  },
  {
   "cell_type": "code",
   "execution_count": 53,
   "metadata": {},
   "outputs": [
    {
     "data": {
      "text/plain": [
       "(0.352, 0.359, 0.054, 0.088)"
      ]
     },
     "execution_count": 53,
     "metadata": {},
     "output_type": "execute_result"
    }
   ],
   "source": [
    "mean_train = lr.predict(Xtrain)\n",
    "res_train = mean_train - Ytrain\n",
    "Sigmas_train = [np.cov(res_train.T)] * Ytrain.shape[0]\n",
    "means_train = mean_train\n",
    "mean_test = lr.predict(Xtest)\n",
    "Sigmas_test = [np.cov(res_train.T)] * Ytest.shape[0]\n",
    "res_test = mean_test - Ytest\n",
    "round(rmse(res_train), 3), round(rmse(res_test), 3), round(score(mean_train, Sigmas_train, Ytrain), 3), round(score(mean_test, Sigmas_test, Ytest), 3)"
   ]
  },
  {
   "cell_type": "code",
   "execution_count": 54,
   "metadata": {},
   "outputs": [
    {
     "data": {
      "text/plain": [
       "(0.273, 0.331, 1.132, 1.049)"
      ]
     },
     "execution_count": 54,
     "metadata": {},
     "output_type": "execute_result"
    }
   ],
   "source": [
    "means_train, Sigmas_train = predict(Xtrain, A, b, C, d, Areg, breg)\n",
    "means_test, Sigmas_test = predict(Xtest, A, b, C, d, Areg, breg)\n",
    "res_train = means_train - Ytrain\n",
    "res_test = means_test - Ytest\n",
    "round(rmse(res_train), 3), round(rmse(res_test), 3), round(score(mean_train, Sigmas_train, Ytrain), 3), round(score(mean_test, Sigmas_test, Ytest), 3)"
   ]
  },
  {
   "cell_type": "code",
   "execution_count": 55,
   "metadata": {},
   "outputs": [
    {
     "data": {
      "image/png": "[encoded data removed]",
      "text/plain": [
       "<Figure size 432x288 with 1 Axes>"
      ]
     },
     "metadata": {
      "needs_background": "light"
     },
     "output_type": "display_data"
    }
   ],
   "source": [
    "plt.scatter((lr.predict(Xtest) - Ytest)[:,0], (lr.predict(Xtest) - Ytest)[:,1], s=5, alpha=.5, label='regression')\n",
    "plt.scatter((predict(Xtest, A, b, C, d, Areg, breg)[0] - Ytest)[:,0], (predict(Xtest, A, b, C, d, Areg, breg)[0] - Ytest)[:,1], s=5, alpha=.5, label='joint mean-covariance')\n",
    "plt.ylim(-2,2)\n",
    "plt.xlim(-2,2)\n",
    "plt.xlabel(df.columns[idx_predict][-2])\n",
    "plt.ylabel(df.columns[idx_predict][-1])\n",
    "plt.legend()\n",
    "plt.savefig(\"figs/joint_residuals.pdf\")\n",
    "plt.show()"
   ]
  },
  {
   "cell_type": "code",
   "execution_count": 56,
   "metadata": {},
   "outputs": [
    {
     "data": {
      "image/png": "[encoded data removed]",
      "text/plain": [
       "<Figure size 432x288 with 1 Axes>"
      ]
     },
     "metadata": {
      "needs_background": "light"
     },
     "output_type": "display_data"
    }
   ],
   "source": [
    "Xs = []\n",
    "x = Xtrain[0]\n",
    "xs = np.linspace(-1,1,50)\n",
    "for e in xs:\n",
    "    x[12] = e\n",
    "    Xs.append(x.copy())\n",
    "Xs = np.array(Xs)\n",
    "plt.xlabel(df.columns[idx_use][12])\n",
    "plt.ylabel(df.columns[idx_predict][-2])\n",
    "plt.plot(xs, predict(Xs, A, b, C, d, Areg, breg)[0][:,0])\n",
    "plt.tight_layout()\n",
    "plt.savefig(\"figs/feature_effect.pdf\")\n",
    "plt.show()"
   ]
  },
  {
   "cell_type": "code",
   "execution_count": null,
   "metadata": {},
   "outputs": [],
   "source": []
  }
 ],
 "metadata": {
  "@webio": {
   "lastCommId": null,
   "lastKernelId": null
  },
  "kernelspec": {
   "display_name": "Python 3",
   "language": "python",
   "name": "python3"
  },
  "language_info": {
   "codemirror_mode": {
    "name": "ipython",
    "version": 3
   },
   "file_extension": ".py",
   "mimetype": "text/x-python",
   "name": "python",
   "nbconvert_exporter": "python",
   "pygments_lexer": "ipython3",
   "version": "3.7.3"
  }
 },
 "nbformat": 4,
 "nbformat_minor": 2
}
